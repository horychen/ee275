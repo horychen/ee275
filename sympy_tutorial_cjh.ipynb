{
 "cells": [
  {
   "cell_type": "code",
   "execution_count": 6,
   "id": "c66a5865-37a4-42ce-bcad-1ff1c51a167b",
   "metadata": {},
   "outputs": [
    {
     "data": {
      "text/latex": [
       "$\\displaystyle \\left[\\begin{matrix}\\operatorname{i_{\\alpha}}{\\left(t \\right)}\\\\\\operatorname{i_{\\beta}}{\\left(t \\right)}\\end{matrix}\\right]$"
      ],
      "text/plain": [
       "⎡i_{\\alpha}(t)⎤\n",
       "⎢             ⎥\n",
       "⎣i_{\\beta}(t) ⎦"
      ]
     },
     "metadata": {},
     "output_type": "display_data"
    },
    {
     "data": {
      "text/latex": [
       "$\\displaystyle \\varTheta{\\left(t \\right)}$"
      ],
      "text/plain": [
       "\\varTheta(t)"
      ]
     },
     "metadata": {},
     "output_type": "display_data"
    },
    {
     "data": {
      "text/latex": [
       "$\\displaystyle \\frac{d}{d t} \\varTheta{\\left(t \\right)}$"
      ],
      "text/plain": [
       "d               \n",
       "──(\\varTheta(t))\n",
       "dt              "
      ]
     },
     "metadata": {},
     "output_type": "display_data"
    },
    {
     "data": {
      "text/latex": [
       "$\\displaystyle 100$"
      ],
      "text/plain": [
       "100"
      ]
     },
     "execution_count": 6,
     "metadata": {},
     "output_type": "execute_result"
    },
    {
     "data": {
      "text/latex": [
       "$\\displaystyle 200$"
      ],
      "text/plain": [
       "200"
      ]
     },
     "execution_count": 6,
     "metadata": {},
     "output_type": "execute_result"
    },
    {
     "data": {
      "text/latex": [
       "$\\displaystyle \\left[\\begin{matrix}1.0 & 0 & 0\\\\0 & 1.0 & 0\\\\0 & 0 & 1.0\\end{matrix}\\right]$"
      ],
      "text/plain": [
       "⎡1.0   0    0 ⎤\n",
       "⎢             ⎥\n",
       "⎢ 0   1.0   0 ⎥\n",
       "⎢             ⎥\n",
       "⎣ 0    0   1.0⎦"
      ]
     },
     "metadata": {},
     "output_type": "display_data"
    },
    {
     "data": {
      "text/latex": [
       "$\\displaystyle \\left[\\begin{matrix}1.0 & 0 & 0\\\\0 & 1.0 & 0\\\\0 & 0 & 1.0\\end{matrix}\\right]$"
      ],
      "text/plain": [
       "⎡1.0   0    0 ⎤\n",
       "⎢             ⎥\n",
       "⎢ 0   1.0   0 ⎥\n",
       "⎢             ⎥\n",
       "⎣ 0    0   1.0⎦"
      ]
     },
     "metadata": {},
     "output_type": "display_data"
    },
    {
     "data": {
      "text/latex": [
       "$\\displaystyle \\left[\\begin{matrix}L_{\\sigma} & M_{\\sigma} & M_{\\sigma}\\\\M_{\\sigma} & L_{\\sigma} & M_{\\sigma}\\\\M_{\\sigma} & M_{\\sigma} & L_{\\sigma}\\end{matrix}\\right]$"
      ],
      "text/plain": [
       "⎡L_\\sigma  M_\\sigma  M_\\sigma⎤\n",
       "⎢                            ⎥\n",
       "⎢M_\\sigma  L_\\sigma  M_\\sigma⎥\n",
       "⎢                            ⎥\n",
       "⎣M_\\sigma  M_\\sigma  L_\\sigma⎦"
      ]
     },
     "metadata": {},
     "output_type": "display_data"
    },
    {
     "data": {
      "text/latex": [
       "$\\displaystyle \\left[\\begin{matrix}1.0 L_{\\sigma} - 1.0 M_{\\sigma} & 0 & 0\\\\0 & 1.0 L_{\\sigma} - 1.0 M_{\\sigma} & 0\\\\0 & 0 & 1.0 L_{\\sigma} + 2.0 M_{\\sigma}\\end{matrix}\\right]$"
      ],
      "text/plain": [
       "⎡1.0⋅L_\\sigma - M_\\sigma             0                          0             \n",
       "⎢                                                                             \n",
       "⎢           0             1.0⋅L_\\sigma - M_\\sigma               0             \n",
       "⎢                                                                             \n",
       "⎣           0                        0             1.0⋅L_\\sigma + 2.0⋅M_\\sigma\n",
       "\n",
       "⎤\n",
       "⎥\n",
       "⎥\n",
       "⎥\n",
       "⎦"
      ]
     },
     "metadata": {},
     "output_type": "display_data"
    },
    {
     "data": {
      "text/plain": [
       "'\\\\left[\\\\begin{matrix}1.0 L_{\\\\sigma} - 1.0 M_{\\\\sigma} & 0 & 0\\\\\\\\0 & 1.0 L_{\\\\sigma} - 1.0 M_{\\\\sigma} & 0\\\\\\\\0 & 0 & 1.0 L_{\\\\sigma} + 2.0 M_{\\\\sigma}\\\\end{matrix}\\\\right]'"
      ]
     },
     "execution_count": 6,
     "metadata": {},
     "output_type": "execute_result"
    }
   ],
   "source": [
    "from sympy import *\n",
    "from IPython.display import display, Latex\n",
    "\n",
    "# display result without need of print (matlab like)\n",
    "from IPython.core.interactiveshell import InteractiveShell; InteractiveShell.ast_node_interactivity = \"all\"\n",
    "\n",
    "# use mathjax\n",
    "init_printing(use_latex='mathjax')\n",
    "\n",
    "# Define symbols\n",
    "t, p, a, b, c, d, e = symbols('t, p, a, b, c, d, e')\n",
    "L_σ = Symbol(r'L_\\sigma')\n",
    "M_σ = Symbol(r'M_\\sigma')\n",
    "i_alpha = Function(r'i_{\\alpha}')(t)\n",
    "i_beta  = Function(r'i_{\\beta}')(t)\n",
    "i_abs = Matrix(2, 1, [i_alpha, i_beta])\n",
    "Theta = Function(r'\\varTheta')(t)\n",
    "Omega = Theta.diff(t)\n",
    "\n",
    "# Display stuff\n",
    "display(i_abs)\n",
    "display(Theta, Omega)\n",
    "a=100\n",
    "a\n",
    "100+a\n",
    "\n",
    "# Rotation Matrix\n",
    "P = Matrix(2,2,     [ cos(Theta), sin(Theta), \\\n",
    "                     -sin(Theta), cos(Theta)] )\n",
    "P_inv = P.T\n",
    "# Full Park transformation (power invariant)\n",
    "T = sqrt(2/3)*Matrix(3,3,\n",
    "                     [ cos(Theta),  cos(Theta-2*pi/3),  cos(Theta-4*pi/3), \n",
    "                      -sin(Theta), -sin(Theta-2*pi/3), -sin(Theta-4*pi/3),\n",
    "                        1/sqrt(2),          1/sqrt(2),          1/sqrt(2)] )\n",
    "T_inv = T.T\n",
    "# Verify inverse equals transpose\n",
    "display(simplify(T*T_inv))\n",
    "display(simplify(T_inv*T))\n",
    "\n",
    "# Matrix\n",
    "Labcσs = Matrix(3,3, [L_σ, M_σ, M_σ, \\\n",
    "                      M_σ, L_σ, M_σ, \\\n",
    "                      M_σ, M_σ, L_σ] )\n",
    "display(Labcσs)\n",
    "Ldqnσs = T * Labcσs * T_inv\n",
    "display(simplify(Ldqnσs))\n",
    "\n",
    "# LaTeX\n",
    "latex(simplify(Ldqnσs))"
   ]
  },
  {
   "cell_type": "code",
   "execution_count": 2,
   "id": "e80f90c6-80f3-4341-b387-f435df5b75c3",
   "metadata": {},
   "outputs": [
    {
     "data": {
      "text/latex": [
       "$\\displaystyle \\left[\\begin{matrix}1.0 & 0 & 0\\\\0 & 1.0 & 0\\\\0 & 0 & 1.0\\end{matrix}\\right]$"
      ],
      "text/plain": [
       "⎡1.0   0    0 ⎤\n",
       "⎢             ⎥\n",
       "⎢ 0   1.0   0 ⎥\n",
       "⎢             ⎥\n",
       "⎣ 0    0   1.0⎦"
      ]
     },
     "metadata": {},
     "output_type": "display_data"
    },
    {
     "data": {
      "text/latex": [
       "$\\displaystyle \\left[\\begin{matrix}1.0 & 0 & 0\\\\0 & 1.0 & 0\\\\0 & 0 & 1.0\\end{matrix}\\right]$"
      ],
      "text/plain": [
       "⎡1.0   0    0 ⎤\n",
       "⎢             ⎥\n",
       "⎢ 0   1.0   0 ⎥\n",
       "⎢             ⎥\n",
       "⎣ 0    0   1.0⎦"
      ]
     },
     "metadata": {},
     "output_type": "display_data"
    }
   ],
   "source": [
    "# Rotation Matrix\n",
    "P = Matrix(2,2,     [ cos(Theta), sin(Theta), \\\n",
    "                     -sin(Theta), cos(Theta)] )\n",
    "P_inv = P.T\n",
    "# Full Park transformation (power invariant)\n",
    "T = sqrt(2/3)*Matrix(3,3,\n",
    "                     [ cos(Theta),  cos(Theta-2*pi/3),  cos(Theta-4*pi/3), \n",
    "                      -sin(Theta), -sin(Theta-2*pi/3), -sin(Theta-4*pi/3),\n",
    "                        1/sqrt(2),          1/sqrt(2),          1/sqrt(2)] )\n",
    "T_inv = T.T\n",
    "display(simplify(T*T_inv))\n",
    "display(simplify(T_inv*T))"
   ]
  },
  {
   "cell_type": "code",
   "execution_count": 3,
   "id": "0c9941c4-f2cc-4dff-857d-e3d8401f93ff",
   "metadata": {},
   "outputs": [
    {
     "data": {
      "text/latex": [
       "$\\displaystyle \\left[\\begin{matrix}L_{\\sigma} & M_{\\sigma} & M_{\\sigma}\\\\M_{\\sigma} & L_{\\sigma} & M_{\\sigma}\\\\M_{\\sigma} & M_{\\sigma} & L_{\\sigma}\\end{matrix}\\right]$"
      ],
      "text/plain": [
       "⎡L_\\sigma  M_\\sigma  M_\\sigma⎤\n",
       "⎢                            ⎥\n",
       "⎢M_\\sigma  L_\\sigma  M_\\sigma⎥\n",
       "⎢                            ⎥\n",
       "⎣M_\\sigma  M_\\sigma  L_\\sigma⎦"
      ]
     },
     "metadata": {},
     "output_type": "display_data"
    },
    {
     "data": {
      "text/latex": [
       "$\\displaystyle \\left[\\begin{matrix}1.0 L_{\\sigma} - 1.0 M_{\\sigma} & 0 & 0\\\\0 & 1.0 L_{\\sigma} - 1.0 M_{\\sigma} & 0\\\\0 & 0 & 1.0 L_{\\sigma} + 2.0 M_{\\sigma}\\end{matrix}\\right]$"
      ],
      "text/plain": [
       "⎡1.0⋅L_\\sigma - M_\\sigma             0                          0             \n",
       "⎢                                                                             \n",
       "⎢           0             1.0⋅L_\\sigma - M_\\sigma               0             \n",
       "⎢                                                                             \n",
       "⎣           0                        0             1.0⋅L_\\sigma + 2.0⋅M_\\sigma\n",
       "\n",
       "⎤\n",
       "⎥\n",
       "⎥\n",
       "⎥\n",
       "⎦"
      ]
     },
     "metadata": {},
     "output_type": "display_data"
    }
   ],
   "source": [
    "Labcσs = Matrix(3,3, [L_σ, M_σ, M_σ, \\\n",
    "                      M_σ, L_σ, M_σ, \\\n",
    "                      M_σ, M_σ, L_σ] )\n",
    "display(Labcσs)\n",
    "Ldqnσs = T * Labcσs * T_inv\n",
    "display(simplify(Ldqnσs))"
   ]
  },
  {
   "cell_type": "code",
   "execution_count": 5,
   "id": "c8314caf-005c-4de7-9090-d75ee47f3c92",
   "metadata": {},
   "outputs": [
    {
     "data": {
      "text/plain": [
       "'\\\\left[\\\\begin{matrix}1.0 L_{\\\\sigma} - 1.0 M_{\\\\sigma} & 0 & 0\\\\\\\\0 & 1.0 L_{\\\\sigma} - 1.0 M_{\\\\sigma} & 0\\\\\\\\0 & 0 & 1.0 L_{\\\\sigma} + 2.0 M_{\\\\sigma}\\\\end{matrix}\\\\right]'"
      ]
     },
     "execution_count": 5,
     "metadata": {},
     "output_type": "execute_result"
    }
   ],
   "source": [
    "latex(simplify(Ldqnσs))"
   ]
  }
 ],
 "metadata": {
  "kernelspec": {
   "display_name": "Python 3",
   "language": "python",
   "name": "python3"
  },
  "language_info": {
   "codemirror_mode": {
    "name": "ipython",
    "version": 3
   },
   "file_extension": ".py",
   "mimetype": "text/x-python",
   "name": "python",
   "nbconvert_exporter": "python",
   "pygments_lexer": "ipython3",
   "version": "3.8.8"
  }
 },
 "nbformat": 4,
 "nbformat_minor": 5
}
