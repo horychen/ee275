{
 "cells": [
  {
   "cell_type": "markdown",
   "id": "34281985-a18b-4d28-88aa-c77d2c68ba24",
   "metadata": {},
   "source": [
    "# There is only OBJECT, there is no such thing as NUMBER"
   ]
  },
  {
   "cell_type": "code",
   "execution_count": 17,
   "id": "53ba77ef-9bf7-40c7-9519-33428deadedf",
   "metadata": {
    "tags": []
   },
   "outputs": [
    {
     "data": {
      "text/plain": [
       "1"
      ]
     },
     "execution_count": 17,
     "metadata": {},
     "output_type": "execute_result"
    },
    {
     "data": {
      "text/plain": [
       "int"
      ]
     },
     "execution_count": 17,
     "metadata": {},
     "output_type": "execute_result"
    },
    {
     "data": {
      "text/plain": [
       "1.0"
      ]
     },
     "execution_count": 17,
     "metadata": {},
     "output_type": "execute_result"
    },
    {
     "data": {
      "text/plain": [
       "float"
      ]
     },
     "execution_count": 17,
     "metadata": {},
     "output_type": "execute_result"
    },
    {
     "data": {
      "text/plain": [
       "1"
      ]
     },
     "execution_count": 17,
     "metadata": {},
     "output_type": "execute_result"
    },
    {
     "data": {
      "text/plain": [
       "1.0"
      ]
     },
     "execution_count": 17,
     "metadata": {},
     "output_type": "execute_result"
    },
    {
     "data": {
      "text/plain": [
       "140717258975024"
      ]
     },
     "execution_count": 17,
     "metadata": {},
     "output_type": "execute_result"
    },
    {
     "data": {
      "text/plain": [
       "140717258975024"
      ]
     },
     "execution_count": 17,
     "metadata": {},
     "output_type": "execute_result"
    },
    {
     "data": {
      "text/plain": [
       "1915743762544"
      ]
     },
     "execution_count": 17,
     "metadata": {},
     "output_type": "execute_result"
    },
    {
     "data": {
      "text/plain": [
       "1915709057776"
      ]
     },
     "execution_count": 17,
     "metadata": {},
     "output_type": "execute_result"
    },
    {
     "data": {
      "text/plain": [
       "True"
      ]
     },
     "execution_count": 17,
     "metadata": {},
     "output_type": "execute_result"
    },
    {
     "data": {
      "text/plain": [
       "False"
      ]
     },
     "execution_count": 17,
     "metadata": {},
     "output_type": "execute_result"
    },
    {
     "data": {
      "text/plain": [
       "True"
      ]
     },
     "execution_count": 17,
     "metadata": {},
     "output_type": "execute_result"
    },
    {
     "data": {
      "text/plain": [
       "True"
      ]
     },
     "execution_count": 17,
     "metadata": {},
     "output_type": "execute_result"
    },
    {
     "data": {
      "text/plain": [
       "1915743763088"
      ]
     },
     "execution_count": 17,
     "metadata": {},
     "output_type": "execute_result"
    },
    {
     "data": {
      "text/plain": [
       "1915743762608"
      ]
     },
     "execution_count": 17,
     "metadata": {},
     "output_type": "execute_result"
    }
   ],
   "source": [
    "from IPython.core.interactiveshell import InteractiveShell; InteractiveShell.ast_node_interactivity = \"all\"\n",
    "a=1\n",
    "a\n",
    "type(a)\n",
    "b=1.0\n",
    "b\n",
    "type(b)\n",
    "\n",
    "c=1\n",
    "c\n",
    "d=1.0\n",
    "d\n",
    "\n",
    "id(a)\n",
    "id(c)\n",
    "\n",
    "id(b)\n",
    "id(d)\n",
    "a is c\n",
    "a is b\n",
    "a == b\n",
    "a == d\n",
    "# a, b, c are references to existing objects"
   ]
  },
  {
   "cell_type": "markdown",
   "id": "a1549a94-d64b-475b-9782-ef8b2cfbef27",
   "metadata": {},
   "source": [
    "# OPERATOR is implemented as METHOD"
   ]
  },
  {
   "cell_type": "code",
   "execution_count": 2,
   "id": "6c863610-4302-42b0-96ee-f565911097c4",
   "metadata": {},
   "outputs": [
    {
     "data": {
      "text/plain": [
       "2"
      ]
     },
     "execution_count": 2,
     "metadata": {},
     "output_type": "execute_result"
    },
    {
     "data": {
      "text/plain": [
       "NotImplemented"
      ]
     },
     "execution_count": 2,
     "metadata": {},
     "output_type": "execute_result"
    },
    {
     "data": {
      "text/plain": [
       "2.0"
      ]
     },
     "execution_count": 2,
     "metadata": {},
     "output_type": "execute_result"
    },
    {
     "data": {
      "text/plain": [
       "2.0"
      ]
     },
     "execution_count": 2,
     "metadata": {},
     "output_type": "execute_result"
    }
   ],
   "source": [
    "# dir(a)\n",
    "# help(a.__add__)\n",
    "a.__add__(a)\n",
    "a.__add__(b)\n",
    "b.__add__(a)\n",
    "a + b"
   ]
  },
  {
   "cell_type": "markdown",
   "id": "5d472389-722f-4edc-9385-8cb9777f4959",
   "metadata": {},
   "source": [
    "# STRING"
   ]
  },
  {
   "cell_type": "code",
   "execution_count": 3,
   "id": "a1f4ad7c-9240-486a-90b3-ebb1f7e0d7df",
   "metadata": {},
   "outputs": [
    {
     "data": {
      "text/plain": [
       "'1'"
      ]
     },
     "execution_count": 3,
     "metadata": {},
     "output_type": "execute_result"
    },
    {
     "data": {
      "text/plain": [
       "'1.0'"
      ]
     },
     "execution_count": 3,
     "metadata": {},
     "output_type": "execute_result"
    },
    {
     "data": {
      "text/plain": [
       "'HELLO KITTY'"
      ]
     },
     "execution_count": 3,
     "metadata": {},
     "output_type": "execute_result"
    },
    {
     "data": {
      "text/plain": [
       "'hello kitty'"
      ]
     },
     "execution_count": 3,
     "metadata": {},
     "output_type": "execute_result"
    },
    {
     "data": {
      "text/plain": [
       "'A\\n\\tB'"
      ]
     },
     "execution_count": 3,
     "metadata": {},
     "output_type": "execute_result"
    },
    {
     "data": {
      "text/plain": [
       "'A\\n    B'"
      ]
     },
     "execution_count": 3,
     "metadata": {},
     "output_type": "execute_result"
    },
    {
     "data": {
      "text/plain": [
       "'\\\\LaTeX\\\\n'"
      ]
     },
     "execution_count": 3,
     "metadata": {},
     "output_type": "execute_result"
    },
    {
     "data": {
      "text/plain": [
       "'I eat 2.0 meals a day.'"
      ]
     },
     "execution_count": 3,
     "metadata": {},
     "output_type": "execute_result"
    },
    {
     "data": {
      "text/plain": [
       "'I eat 2 meals a day.'"
      ]
     },
     "execution_count": 3,
     "metadata": {},
     "output_type": "execute_result"
    }
   ],
   "source": [
    "str(a)\n",
    "str(b)\n",
    "'HELLO KITTY'\n",
    "'HELLO KITTY'.lower()\n",
    "'A\\n\\tB'\n",
    "r'''A\n",
    "    B'''\n",
    "r'\\LaTeX\\n'\n",
    "\n",
    "f'I eat {a+b} meals a day.'\n",
    "f'I eat {a+int(b):d} meals a day.'"
   ]
  },
  {
   "cell_type": "markdown",
   "id": "95218296-370a-4d2d-b509-48f03fd44a2a",
   "metadata": {},
   "source": [
    "# ITERABLE"
   ]
  },
  {
   "cell_type": "code",
   "execution_count": 5,
   "id": "f4852f31-bcea-4210-aae8-c24aa327d217",
   "metadata": {
    "tags": []
   },
   "outputs": [
    {
     "data": {
      "text/plain": [
       "[0, 1, 2]"
      ]
     },
     "execution_count": 5,
     "metadata": {},
     "output_type": "execute_result"
    },
    {
     "data": {
      "text/plain": [
       "(0, 1, 2)"
      ]
     },
     "execution_count": 5,
     "metadata": {},
     "output_type": "execute_result"
    },
    {
     "data": {
      "text/plain": [
       "{0: 'A', 1: 'B', 2: 'C'}"
      ]
     },
     "execution_count": 5,
     "metadata": {},
     "output_type": "execute_result"
    },
    {
     "data": {
      "text/plain": [
       "0"
      ]
     },
     "execution_count": 5,
     "metadata": {},
     "output_type": "execute_result"
    },
    {
     "data": {
      "text/plain": [
       "1"
      ]
     },
     "execution_count": 5,
     "metadata": {},
     "output_type": "execute_result"
    },
    {
     "name": "stdout",
     "output_type": "stream",
     "text": [
      "----------------------------------------\n",
      "0\n",
      "1\n",
      "2\n",
      "0\n",
      "1\n",
      "2\n",
      "0 A\n",
      "1 B\n",
      "2 C\n",
      "----------------------------------------\n",
      "0 0\n",
      "1 1\n",
      "2 2\n",
      "0 0\n",
      "1 1\n",
      "2 2\n",
      "0 0 A\n",
      "1 1 B\n",
      "2 2 C\n"
     ]
    }
   ],
   "source": [
    "LIST = [0, 1, 2]\n",
    "TUPLE = 0, 1, 2 # tuple(LIST)\n",
    "DICT = {0:'A', 1:'B', 2:'C'} # DICT = dict([(0,'A'), (1,'B'), (2,'C')])\n",
    "LIST\n",
    "TUPLE\n",
    "DICT\n",
    "\n",
    "# UNPACK\n",
    "x, y, _ = TUPLE\n",
    "x\n",
    "y\n",
    "\n",
    "print('-'*40)\n",
    "for el in LIST: print(el)\n",
    "for el in TUPLE: print(el)\n",
    "for key, val in DICT.items(): print(key, val)\n",
    "\n",
    "print('-'*40)\n",
    "for index, el in enumerate(LIST): print(index, el)\n",
    "for index, el in enumerate(TUPLE): print(index, el)\n",
    "for index, (key, val) in enumerate(DICT.items()): print(index, key, val)"
   ]
  },
  {
   "cell_type": "code",
   "execution_count": 6,
   "id": "a3e66cd4-e6aa-4d19-b4ef-fd824dacd9df",
   "metadata": {
    "tags": []
   },
   "outputs": [
    {
     "data": {
      "text/plain": [
       "[0, 1, 2, 999, 0, 1, 2, 999]"
      ]
     },
     "execution_count": 6,
     "metadata": {},
     "output_type": "execute_result"
    },
    {
     "data": {
      "text/plain": [
       "(0, 1, 2, 0, 1, 2)"
      ]
     },
     "execution_count": 6,
     "metadata": {},
     "output_type": "execute_result"
    },
    {
     "data": {
      "text/plain": [
       "{0: 'A', 1: 'B', 2: 'C', 999: 'ZZZ'}"
      ]
     },
     "execution_count": 6,
     "metadata": {},
     "output_type": "execute_result"
    }
   ],
   "source": [
    "# MODIFY or NEW\n",
    "LIST.append(999)\n",
    "LIST + LIST\n",
    "\n",
    "TUPLE + TUPLE\n",
    "\n",
    "DICT[999] = 'ZZZ'\n",
    "DICT.update(DICT)\n",
    "DICT"
   ]
  },
  {
   "cell_type": "code",
   "execution_count": 7,
   "id": "6ad12a56-dabc-4fa8-81ee-8907684afb75",
   "metadata": {
    "tags": []
   },
   "outputs": [
    {
     "data": {
      "text/plain": [
       "999"
      ]
     },
     "execution_count": 7,
     "metadata": {},
     "output_type": "execute_result"
    },
    {
     "data": {
      "text/plain": [
       "999"
      ]
     },
     "execution_count": 7,
     "metadata": {},
     "output_type": "execute_result"
    },
    {
     "data": {
      "text/plain": [
       "[0, 1]"
      ]
     },
     "execution_count": 7,
     "metadata": {},
     "output_type": "execute_result"
    },
    {
     "data": {
      "text/plain": [
       "[2, 999]"
      ]
     },
     "execution_count": 7,
     "metadata": {},
     "output_type": "execute_result"
    },
    {
     "data": {
      "text/plain": [
       "[0, 2]"
      ]
     },
     "execution_count": 7,
     "metadata": {},
     "output_type": "execute_result"
    },
    {
     "data": {
      "text/plain": [
       "[999, 2, 1, 0]"
      ]
     },
     "execution_count": 7,
     "metadata": {},
     "output_type": "execute_result"
    },
    {
     "data": {
      "text/plain": [
       "array([10, 20, 30, 40, 50, 60, 70, 80, 90])"
      ]
     },
     "execution_count": 7,
     "metadata": {},
     "output_type": "execute_result"
    }
   ],
   "source": [
    "# LIST.max()\n",
    "# help(max)\n",
    "max(LIST)\n",
    "\n",
    "# COMPREHENSION\n",
    "LIST[-1]\n",
    "LIST[:-2]\n",
    "LIST[-2:]\n",
    "LIST[::2]\n",
    "LIST[::-1]"
   ]
  },
  {
   "cell_type": "markdown",
   "id": "cd1f5303-34b1-4d3b-9df5-99637df16cce",
   "metadata": {},
   "source": [
    "# CLASS"
   ]
  },
  {
   "cell_type": "code",
   "execution_count": 18,
   "id": "3d84981e-ad45-44b8-a651-c0f2d6c765fc",
   "metadata": {},
   "outputs": [
    {
     "data": {
      "text/plain": [
       "2024"
      ]
     },
     "execution_count": 18,
     "metadata": {},
     "output_type": "execute_result"
    },
    {
     "data": {
      "text/plain": [
       "2024"
      ]
     },
     "execution_count": 18,
     "metadata": {},
     "output_type": "execute_result"
    },
    {
     "data": {
      "text/plain": [
       "'electric motors and motion control'"
      ]
     },
     "execution_count": 18,
     "metadata": {},
     "output_type": "execute_result"
    }
   ],
   "source": [
    "class EE275:\n",
    "    title = 'electric motors and motion control'\n",
    "    def __init__(self, year, teacher):\n",
    "        EE275.y = year\n",
    "        EE275.t = teacher\n",
    "#         self.y = year\n",
    "#         self.t = teacher\n",
    "ee2023 = EE275(2023, 'Chen')\n",
    "ee2024 = EE275(2024, 'Xu')\n",
    "ee2023.y\n",
    "ee2024.y\n",
    "ee2023.title"
   ]
  },
  {
   "cell_type": "markdown",
   "id": "005300fa-a532-4f28-9961-9d9ec6c4458b",
   "metadata": {},
   "source": [
    "# NUMPY"
   ]
  },
  {
   "cell_type": "code",
   "execution_count": 10,
   "id": "038ef8a9-9a0e-4638-983f-cab60349e7ae",
   "metadata": {},
   "outputs": [
    {
     "data": {
      "text/plain": [
       "array([10, 20, 30, 40, 50, 60, 70, 80, 90])"
      ]
     },
     "execution_count": 10,
     "metadata": {},
     "output_type": "execute_result"
    },
    {
     "data": {
      "text/plain": [
       "array([0. , 0.1, 0.2, 0.3, 0.4, 0.5, 0.6, 0.7, 0.8, 0.9])"
      ]
     },
     "execution_count": 10,
     "metadata": {},
     "output_type": "execute_result"
    }
   ],
   "source": [
    "from pylab import np\n",
    "np.arange(10, 100, 10)\n",
    "np.arange(0, 1, .1)\n"
   ]
  }
 ],
 "metadata": {
  "kernelspec": {
   "display_name": "Python 3",
   "language": "python",
   "name": "python3"
  },
  "language_info": {
   "codemirror_mode": {
    "name": "ipython",
    "version": 3
   },
   "file_extension": ".py",
   "mimetype": "text/x-python",
   "name": "python",
   "nbconvert_exporter": "python",
   "pygments_lexer": "ipython3",
   "version": "3.8.8"
  }
 },
 "nbformat": 4,
 "nbformat_minor": 5
}
